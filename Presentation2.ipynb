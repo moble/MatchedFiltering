{
 "cells": [
  {
   "cell_type": "markdown",
   "metadata": {
    "slideshow": {
     "slide_type": "skip"
    }
   },
   "source": [
    "***NOTE:*** This assumes that [RISE](https://github.com/damianavila/RISE) is installed.  If so, just click the bar chart in the toolbar above, and the presentation should begin.  Note that in edit mode, you can easily change some slide types of cells below, with\n",
    "\n",
    " * `shift-i` : toggle slide\n",
    " * `shift-b` : toggle subslide\n",
    " * `shift-g` : toggle fragment\n"
   ]
  },
  {
   "cell_type": "markdown",
   "metadata": {
    "slideshow": {
     "slide_type": "slide"
    }
   },
   "source": [
    "# Gravitational-wave astronomy with real data\n",
    "\n",
    "## Matched filtering"
   ]
  },
  {
   "cell_type": "markdown",
   "metadata": {
    "slideshow": {
     "slide_type": "slide"
    }
   },
   "source": [
    "# Introduction\n",
    "\n",
    "  - Gravitational waves (GWs) are like sound waves\n",
    "    - GW medium is spacetime itself (no matter needed)\n",
    "    - Transverse rather than longitudinal"
   ]
  },
  {
   "cell_type": "markdown",
   "metadata": {
    "slideshow": {
     "slide_type": "fragment"
    }
   },
   "source": [
    "  - LIGO is an enormous microphone\n",
    "    - We could actually hear (very loud) GWs with our own ears\n",
    "    - We can hear LIGO data"
   ]
  },
  {
   "cell_type": "markdown",
   "metadata": {
    "slideshow": {
     "slide_type": "fragment"
    }
   },
   "source": [
    "  - But there’s a lot of noise\n",
    "    - Earthquakes, storms, logging, traffic, shotguns"
   ]
  },
  {
   "cell_type": "markdown",
   "metadata": {
    "slideshow": {
     "slide_type": "fragment"
    }
   },
   "source": [
    "  - We need a good (and quantitative) way of digging signal out of the noise"
   ]
  },
  {
   "cell_type": "markdown",
   "metadata": {
    "slideshow": {
     "slide_type": "slide"
    }
   },
   "source": [
    "# Outline\n",
    "\n",
    "Overtly:\n",
    "  - Sounds of gravitational waves\n",
    "  - Sounds of LIGO\n",
    "  - FFTs\n",
    "  - Matched filtering\n",
    "\n",
    "Covertly:\n",
    "  - Data analysis\n",
    "  - Github\n",
    "  - Python\n",
    "  - Jupyter notebook (Jupyterlab, in the future)"
   ]
  },
  {
   "cell_type": "markdown",
   "metadata": {
    "slideshow": {
     "slide_type": "notes"
    }
   },
   "source": [
    "The ostensible purpose of this talk is to introduce you to matched filtering, which is the basic method that GW detectors use in searching for and measuring GW signals.  But that's a pretty narrow purpose, and most of you will not get involved in GWs.  So I want to also give you some exposure to a few other ideas that hopefully will have more broad application to all of you when you go into other fields.  And we'll use matched-filtering as a way into those other ideas."
   ]
  },
  {
   "cell_type": "markdown",
   "metadata": {
    "slideshow": {
     "slide_type": "notes"
    }
   },
   "source": [
    "So ostensibly, the outline of this activity starts off with introducing you to the sounds of GWs.  I'll make this analogy that LIGO is just an extraordinary microphone, and we'll listen to the sounds a GW makes, and the sounds of the LIGO instrument itself.  Then, we'll see that FFTs are a really powerful way of analyzing these sounds, and matched filtering is a really sensitive way of measuring those FFTs.\n",
    "\n",
    "But of course, while we're doing that, I also want to give you a little flavor of data analysis.  Pretty much all of you either are working on or will work on data analysis at some point, and there are some very general rules and ideas that can be applied to basically any type of data analysis.  So I'll want to use this stuff as a sort of analogy for other types of data analysis, so hopefully you can apply these principles to your own work."
   ]
  },
  {
   "cell_type": "markdown",
   "metadata": {
    "slideshow": {
     "slide_type": "notes"
    }
   },
   "source": [
    "Whenever you do any data analysis, you'll probably be writing code to do it.  As scientists especially, that code should be open-source because that's crucial to reproducibility, and so that your code can be used by others to build on your work — which is good for science, and good for you personally.  But when working on open-source code, the de facto meeting place is github, which is home to most of the major open-source scientific projects (among many others).  In fact, many employers look at your github presence as if it were part of your resume — as evidence of your ability to write code in various languages, and interact well with others.  You can start out just by making an account, and downloading a package that you want to use.  Then you can open issues (bug reports) if you find any problems or have any questsion.  As you get experience, you can fork other projects and create pull requests for fixes or new features you add to other people's code, and even create your own projects.  One easy way to get started with pull requests is just to improve the documentation for some project that you've used.\n",
    "\n",
    "On a more immediate level, I also hope to give you the impression that python is a useful language for fast prototyping, and investigating your data, and nothing enables that interactivity better than Jupyter."
   ]
  },
  {
   "cell_type": "markdown",
   "metadata": {
    "slideshow": {
     "slide_type": "slide"
    }
   },
   "source": [
    "# Jupyter notebooks\n",
    "\n",
    "<br />\n",
    "\n",
    "  - Like Mathematica, Maple, Matlab, ... but better\n",
    "  - Runs a live session of python (or basically any other language)\n",
    "  - Manipulate files, write code, interact with data, make plots, take notes, give presentations, etc.\n"
   ]
  },
  {
   "cell_type": "markdown",
   "metadata": {
    "slideshow": {
     "slide_type": "notes"
    }
   },
   "source": [
    "So first, I just want to introduce how we're working here.  Who here has used python before?\n",
    "\n",
    "Python is really dynamic, and powerful, but also a lot simpler than most other languages.  It's not always the fastest at any computation, but since most of your time is spent writing programs (rather than running them), that's not usually a big problem.  And new developments are making python just as fast as even C/C++ in a lot of cases.\n",
    "\n",
    "Now, we throw in the Jupyter notebook.  Who here has used Mathematica before?\n",
    "\n",
    "Well the Jupyter notebook looks and acts like a nice version of Mathematica.  The notebook is connected to a live session of python.  It has these code cells that you run, and you can see the results.  So click on the first cell, and hit Shift+Enter.\n",
    "\n",
    "Mathematica is better at symbolic math (for now).  But otherwise, python is more useful and general.  And the Jupyter notebook makes it better at interactive stuff.  So here's my unsolicited advice: if you're deciding what programming language to learn, go with python.  There are nerdier options out there, but not many more broadly useful options.  And if you're using python interactively, you'll want to us Jupyter (which is just a different interface) or -- better yet -- the Jupyter notebook."
   ]
  },
  {
   "cell_type": "markdown",
   "metadata": {
    "slideshow": {
     "slide_type": "slide"
    }
   },
   "source": [
    "  - You don't need to know python\n",
    "  - Put cursor in grey boxes and hit Shift-Enter\n",
    "  \n",
    "  - github.com/moble/MatchedFiltering"
   ]
  },
  {
   "cell_type": "markdown",
   "metadata": {
    "slideshow": {
     "slide_type": "slide"
    }
   },
   "source": [
    "# (Discrete) Fourier transforms\n",
    "\n",
    "<br /><br />\n",
    "\n",
    "$$\n",
    "s(t) = \\sum_{f_i} \\left[ \\tilde{s}_{f_i}\\, \\sin (2\\,\\pi\\,f_i\\,t + \\phi_i) \\right]\n",
    "$$\n",
    "\n",
    "Discrete frequencies: $f_i$\n",
    "\n",
    "FT amplitude: $\\tilde{s}_{f_i}$\n",
    "\n",
    "FT phase: $\\phi_{f_i}$"
   ]
  },
  {
   "cell_type": "markdown",
   "metadata": {
    "slideshow": {
     "slide_type": "slide"
    }
   },
   "source": [
    "# 2. Listening to gravitational waves\n",
    "\n",
    "  * Can you hear any of the features that you see in the plots?\n",
    "  * Why does the amplitude of the Fourier transform *decrease* as the frequency increases?\n",
    "  * Why does it sound so quiet at the beginning and loud at the highest frequency?"
   ]
  },
  {
   "cell_type": "markdown",
   "metadata": {
    "slideshow": {
     "slide_type": "slide"
    }
   },
   "source": [
    "# 3. Listening to detector data\n",
    "\n",
    "  * What happened?  Why is this signal nothing at all like the pure GW we saw above?\n",
    "  * Can you see the signal in the plots?\n",
    "  * Can you hear the signal?\n",
    "  * What are the sources of noise here?\n",
    "  * The raw data sounds generally pretty high-pitched.  But looking in the frequency domain, we see that most of the power is at very low frequencies.  Why doesn't the raw data sound low-pitched?\n"
   ]
  },
  {
   "cell_type": "markdown",
   "metadata": {
    "slideshow": {
     "slide_type": "slide"
    }
   },
   "source": [
    "# Matched filtering"
   ]
  },
  {
   "cell_type": "markdown",
   "metadata": {
    "slideshow": {
     "slide_type": "slide"
    }
   },
   "source": [
    "$$\n",
    "  {\\tilde{d}_{f_{i}}\\, \\tilde{s}_{f_{i}}}\n",
    "$$"
   ]
  },
  {
   "cell_type": "markdown",
   "metadata": {
    "slideshow": {
     "slide_type": "slide"
    }
   },
   "source": [
    "$$\n",
    "  {\\tilde{d}_{f_{i}}\\, \\tilde{s}_{f_{i}}}\\,\n",
    "  \\cos \\left[ \\delta\\phi_{f_i} \\right]\n",
    "$$"
   ]
  },
  {
   "cell_type": "markdown",
   "metadata": {
    "slideshow": {
     "slide_type": "slide"
    }
   },
   "source": [
    "$$\n",
    "  \\sum_{f_{i}} {\\tilde{d}_{f_{i}}\\, \\tilde{s}_{f_{i}}}\\,\n",
    "  \\cos \\left[ \\delta\\phi_{f_i} \\right]\n",
    "$$"
   ]
  },
  {
   "cell_type": "markdown",
   "metadata": {
    "slideshow": {
     "slide_type": "slide"
    }
   },
   "source": [
    "$$\n",
    "  \\sum_{f_{i}} {\\tilde{d}_{f_{i}}\\, \\tilde{s}_{f_{i}}}\\,\n",
    "  \\cos \\left[ \\delta\\phi_{f_i} + f_{i}\\, \\delta t \\right]\n",
    "$$"
   ]
  },
  {
   "cell_type": "markdown",
   "metadata": {
    "slideshow": {
     "slide_type": "slide"
    }
   },
   "source": [
    "$$\n",
    "  \\sum_{f_{i}} {\\tilde{d}_{f_{i}}\\, \\tilde{s}_{f_{i}}}\\,\n",
    "  \\cos \\left[ \\delta\\phi_{f_i} + f_{i}\\, \\delta t \\right]\\, \\Delta f_i\n",
    "$$"
   ]
  },
  {
   "cell_type": "markdown",
   "metadata": {
    "slideshow": {
     "slide_type": "notes"
    }
   },
   "source": [
    "Parseval's / Plancherel's Theorem says that this is *precisely* the same as the integral in the time domain:"
   ]
  },
  {
   "cell_type": "markdown",
   "metadata": {
    "slideshow": {
     "slide_type": "slide"
    }
   },
   "source": [
    "$$\n",
    "  \\sum_{f_{i}} {\\tilde{d}_{f_{i}}\\, \\tilde{s}_{f_{i}}}\\,\n",
    "  \\cos \\left[ \\delta\\phi_{f_i} + f_{i}\\, \\delta t \\right]\\, \\Delta f_i\n",
    "  =\n",
    "  \\sum_{t_{i}} d_{t_{i}}\\, s_{t_{i}-\\delta t}\\, \\Delta t_i\n",
    "$$"
   ]
  },
  {
   "cell_type": "markdown",
   "metadata": {
    "slideshow": {
     "slide_type": "notes"
    }
   },
   "source": [
    "So the question is: why do we use the frequency domain, rather than the time domain — especially since the data is actually measured in the time domain?  There are two good reasons here.  First, take a look at this expression on the left, and you'll realize that it's actually a Fourier transform as a function of $\\delta t$ — usually called the inverse Fourier transform.  Since we can't really predict $\\delta t$ (it's just some time offset between our model and when nature decided the black holes would actually merge), we need to evaluate this quantity for all possible time offsets."
   ]
  },
  {
   "cell_type": "markdown",
   "metadata": {
    "slideshow": {
     "slide_type": "slide"
    }
   },
   "source": [
    "$$\n",
    "  \\big\\langle d \\big| s \\big\\rangle_{\\delta t}\n",
    "  = \\sum_{f_{i}} {\\tilde{d}_{f_{i}}\\, \\tilde{s}_{f_{i}}}\\,\n",
    "  \\cos \\left[ \\delta\\phi_{f_i} + f_{i}\\, \\delta t \\right]\n",
    "$$"
   ]
  },
  {
   "cell_type": "markdown",
   "metadata": {
    "slideshow": {
     "slide_type": "notes"
    }
   },
   "source": [
    "And it turns out that this can actually be evaluated *extremely* efficiently — which is not so true of the right-hand side.  There's this algorithm called the *fast* Fourier transform (FFT), that let's us calculate $\\tilde{d}$, $\\tilde{s}$, and this entire sum really efficiently."
   ]
  },
  {
   "cell_type": "markdown",
   "metadata": {
    "slideshow": {
     "slide_type": "slide"
    }
   },
   "source": [
    "$$\n",
    "  \\sum_{f_{i}} {\\tilde{d}_{f_{i}}\\, \\tilde{s}_{f_{i}}}\\,\n",
    "  \\cos \\left[ \\delta\\phi_{f_i} + f_{i}\\, \\delta t \\right]\\, \\Delta f_i\n",
    "  =\n",
    "  \\sum_{t_{i}} d_{t_{i}}\\, s_{t_{i}-\\delta t}\\, \\Delta t_i\n",
    "$$"
   ]
  },
  {
   "cell_type": "markdown",
   "metadata": {
    "slideshow": {
     "slide_type": "notes"
    }
   },
   "source": [
    "But the second reason is perhaps more important.  If I just look at any particular value on the right-hand side, there's just some data value at some instant of time, and I can't tell you whether that value is due to noise, or physics, or what.  But by looking very carefully at *correlations* between different instants of time, we can start to pick out which parts of the data are due to noise — at least statistically.  For example, one thing that's very common in nature is the harmonic oscillator.  Basically, any time a (possibly generalized) restoring force is proportional to some (possibly generalized) displacement, you get harmonic motion.  And since analytic functions always look linear for small displacements, you find this sort of thing a lot."
   ]
  },
  {
   "cell_type": "markdown",
   "metadata": {
    "slideshow": {
     "slide_type": "slide"
    }
   },
   "source": [
    "# Stationary processes\n",
    "  * Harmonic oscillators\n",
    "  * Statistics of large numbers"
   ]
  },
  {
   "cell_type": "markdown",
   "metadata": {
    "slideshow": {
     "slide_type": "slide"
    }
   },
   "source": [
    "$$\n",
    "  \\big\\langle d \\big| s \\big\\rangle_{\\delta t}\n",
    "  = \\sum_{f_{i}} \\frac{\\tilde{d}_{f_{i}}\\, \\tilde{s}_{f_{i}}} {\\tilde{n}_{f_{i}}^{2}}\\,\n",
    "  \\cos \\left[ \\delta\\phi_{f_i} + f_{i}\\, \\delta t \\right]\n",
    "$$"
   ]
  },
  {
   "cell_type": "markdown",
   "metadata": {
    "slideshow": {
     "slide_type": "slide"
    }
   },
   "source": [
    "# Matched filtering\n",
    "\n",
    "<br /><br />\n",
    "\n",
    "$$\n",
    "  \\big\\langle d \\big| s \\big\\rangle_{\\delta t}\n",
    "  = \\sum_{f_{i}} \\frac{\\tilde{d}_{f_{i}}\\, \\tilde{s}_{f_{i}}} {\\tilde{n}_{f_{i}}^{2}}\\,\n",
    "  \\cos \\left[ \\delta\\phi_{f_i} + f_{i}\\, \\delta t \\right]\n",
    "$$\n",
    "\n",
    "Think of this as either\n",
    "\n",
    "  - Filtering the data\n",
    "  - Taking the projection of the signal vector with the data vector"
   ]
  },
  {
   "cell_type": "markdown",
   "metadata": {
    "slideshow": {
     "slide_type": "notes"
    }
   },
   "source": [
    "Fourier series are vectors; Fourier space is a vector space.\n",
    "\n",
    "We've provided the vector space with a \"dot product\" (which makes it into a Hilbert space).\n",
    "\n",
    "The dot product accounts for different amounts of noise in the different vector components.\n",
    "\n",
    "Matched filtering is taking a signal vector and measuring its projection along a template vector."
   ]
  },
  {
   "cell_type": "markdown",
   "metadata": {
    "slideshow": {
     "slide_type": "slide"
    }
   },
   "source": [
    "<img src=\"files/70sEqualizer.jpg\" width=\"900px\">"
   ]
  },
  {
   "cell_type": "markdown",
   "metadata": {
    "slideshow": {
     "slide_type": "slide"
    }
   },
   "source": [
    "# 4. Digging signal out of noise manually\n",
    "\n",
    "  * Can you adjust the filters so that you can see the peak amplitude in the time domain?  What does it look like when you zoom in?  Can you hear it?\n",
    "  * If you leave the $45\\,\\mathrm{Hz}$ band in the data, you see (and hear) big slow oscillations in the time-domain amplitude that are *much* slower than $45\\,\\mathrm{Hz}$.  Can you explain where these come from, and why they oscillate like that?\n",
    "  * How does the largest data point of your filtered data (in the time domain) compare to the largest point in the raw data?  Why is this?\n",
    "  * With good settings, you should be able to see a large spike right in the middle of the data.  But there are other spikes, too.  How is the middle spike different from the others?\n",
    "[comment]: <> (    * Made up of three or four clustered spikes)\n",
    "[comment]: <> (    * Get bigger and closer as time goes on, then drop suddenly)\n",
    "[comment]: <> (    * That's a signature of gravitational waves from a merging black-hole binary)\n",
    "  * If you zoom in on the plot of the filtered data, there's just a small amount that looks like it might contain the actual signal.  About how much time would you say this lasts for?  Roughly how many cycles of data would you believe come from the GW150914 event, as opposed to noise?\n",
    "  * How could we improve the crude filtering we've done here?\n",
    "[comment]: <> (    * Smoother filters)\n",
    "[comment]: <> (    * More frequency bins)\n",
    "[comment]: <> (    * Adjust equalizer proportionally to noise)\n",
    "[comment]: <> (    * Adjust equalizer proportionally to an expected signal)\n",
    "[comment]: <> (    * Use phase information of expected signal)"
   ]
  },
  {
   "cell_type": "markdown",
   "metadata": {
    "slideshow": {
     "slide_type": "slide"
    }
   },
   "source": [
    "# Conclusions\n",
    "\n",
    "Matched filtering:\n",
    "\n",
    "  - Current GW detectors are like giant microphones\n",
    "  - There's lots of noise\n",
    "  - So we filter the data and test for signals\n",
    "  - Used for\n",
    "    - GW analysis\n",
    "    - Pulsar analysis\n",
    "    - Searching for asteroids, galaxies, or clusters\n",
    "    - Finding whales and submarines (in sonar data)\n",
    "    - Improving the quality of X-rays"
   ]
  },
  {
   "cell_type": "markdown",
   "metadata": {
    "slideshow": {
     "slide_type": "slide"
    }
   },
   "source": [
    "# Conclusions\n",
    "\n",
    "Data analysis:\n",
    "\n",
    "  - FFTs are great for time series (any periodic signal)\n",
    "  - Python and Jupyter notebooks are really useful\n",
    "  - Look at your data in as many ways as possible"
   ]
  },
  {
   "cell_type": "markdown",
   "metadata": {
    "slideshow": {
     "slide_type": "slide"
    }
   },
   "source": [
    "# github.com/moble/MatchedFiltering"
   ]
  }
 ],
 "metadata": {
  "celltoolbar": "Slideshow",
  "kernelspec": {
   "display_name": "Python 3",
   "language": "python",
   "name": "python3"
  },
  "language_info": {
   "codemirror_mode": {
    "name": "ipython",
    "version": 3
   },
   "file_extension": ".py",
   "mimetype": "text/x-python",
   "name": "python",
   "nbconvert_exporter": "python",
   "pygments_lexer": "ipython3",
   "version": "3.8.3"
  },
  "rise": {
   "autolaunch": true,
   "enable_chalkboard": true
  },
  "toc": {
   "colors": {
    "hover_highlight": "#DAA520",
    "navigate_num": "#000000",
    "navigate_text": "#333333",
    "running_highlight": "#FF0000",
    "selected_highlight": "#FFD700",
    "sidebar_border": "#EEEEEE",
    "wrapper_background": "#FFFFFF"
   },
   "moveMenuLeft": true,
   "nav_menu": {
    "height": "156px",
    "width": "252px"
   },
   "navigate_menu": true,
   "number_sections": true,
   "sideBar": true,
   "threshold": 4,
   "toc_cell": false,
   "toc_section_display": "block",
   "toc_window_display": false,
   "widenNotebook": false
  }
 },
 "nbformat": 4,
 "nbformat_minor": 1
}
