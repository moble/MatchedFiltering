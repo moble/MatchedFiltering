{
 "cells": [
  {
   "cell_type": "markdown",
   "metadata": {
    "slideshow": {
     "slide_type": "skip"
    }
   },
   "source": [
    "***NOTE:*** This assumes that [RISE](https://github.com/damianavila/RISE) is installed.  If so, just click the bar chart in the toolbar above, and the presentation should begin.  Note that in edit mode, you can easily change some slide types of cells below, with\n",
    "\n",
    " * `shift-i` : toggle slide\n",
    " * `shift-b` : toggle subslide\n",
    " * `shift-g` : toggle fragment\n",
    "\n",
    "\n",
    "Once the slideshow is running, the comma key \",\" will show or hide the buttons for you to press to close the slideshow, get help, or navigate.  You can still navigate using the arrow keys, and so on."
   ]
  },
  {
   "cell_type": "markdown",
   "metadata": {
    "slideshow": {
     "slide_type": "slide"
    }
   },
   "source": [
    "1. Open a command prompt (aka command line, terminal, shell, powershell)\n",
    "\n",
    "2. If you haven't already, run\n",
    "```bash\n",
    "conda env create moble/gw_matched_filtering_demo\n",
    "```\n",
    "\n",
    "3. Once you've done that, run\n",
    "```bash\n",
    "conda activate gw_matched_filtering_demo\n",
    "```\n",
    "\n",
    "4. Leave the command prompt open for now"
   ]
  },
  {
   "cell_type": "markdown",
   "metadata": {
    "slideshow": {
     "slide_type": "slide"
    }
   },
   "source": [
    "# Gravitational-wave astronomy with real data\n",
    "\n",
    "## Matched filtering"
   ]
  },
  {
   "cell_type": "markdown",
   "metadata": {
    "slideshow": {
     "slide_type": "slide"
    }
   },
   "source": [
    "# Introduction\n",
    "\n",
    "  - Gravitational waves (GWs) are like sound waves, except...\n",
    "    - GW medium is spacetime itself (no matter needed)\n",
    "    - Transverse rather than longitudinal"
   ]
  },
  {
   "cell_type": "markdown",
   "metadata": {
    "slideshow": {
     "slide_type": "fragment"
    }
   },
   "source": [
    "  - LIGO is an enormous microphone\n",
    "    - We could actually hear (very loud) GWs with our own ears\n",
    "    - We can (and will!) hear LIGO data"
   ]
  },
  {
   "cell_type": "markdown",
   "metadata": {
    "slideshow": {
     "slide_type": "fragment"
    }
   },
   "source": [
    "  - But there’s a lot of noise\n",
    "    - Earthquakes, storms, logging, traffic, shotguns"
   ]
  },
  {
   "cell_type": "markdown",
   "metadata": {
    "slideshow": {
     "slide_type": "fragment"
    }
   },
   "source": [
    "  - We need a good way of digging signal out of the noise"
   ]
  },
  {
   "cell_type": "markdown",
   "metadata": {
    "slideshow": {
     "slide_type": "slide"
    }
   },
   "source": [
    "# Outline\n",
    "\n",
    "Overtly:\n",
    "  - Sounds of gravitational waves\n",
    "  - Sounds of LIGO\n",
    "  - Fourier transforms (FFTs)\n",
    "  - Matched filtering\n",
    "\n",
    "Covertly:\n",
    "  - Data analysis\n",
    "  - Python\n",
    "  - Jupyter notebook\n",
    "  - Github"
   ]
  },
  {
   "cell_type": "markdown",
   "metadata": {
    "slideshow": {
     "slide_type": "notes"
    }
   },
   "source": [
    "The ostensible purpose of this talk is to introduce you to matched filtering, which is the basic method that GW detectors use in searching for and measuring GW signals.  But that's a pretty narrow purpose, and most of you will not get involved in GWs.  So I want to also give you some exposure to a few other ideas that hopefully will have more broad application to all of you when you go into other fields.  And we'll use matched-filtering as a way into those other ideas."
   ]
  },
  {
   "cell_type": "markdown",
   "metadata": {
    "slideshow": {
     "slide_type": "notes"
    }
   },
   "source": [
    "So ostensibly, the outline of this activity starts off with introducing you to the sounds of GWs.  I'll make this analogy that LIGO is just an extraordinary microphone, and we'll listen to the sounds a GW makes, and the sounds of the LIGO instrument itself.  Then, we'll see that FFTs are a really powerful way of analyzing these sounds, and matched filtering is a really sensitive way of measuring those FFTs.\n",
    "\n",
    "But of course, while we're doing that, I also want to give you a little flavor of data analysis.  Pretty much all of you either are working on or will work on data analysis at some point, and there are some very general rules and ideas that can be applied to basically any type of data analysis.  So I'll want to use this stuff as a sort of analogy for other types of data analysis, so hopefully you can apply these principles to your own work."
   ]
  },
  {
   "cell_type": "markdown",
   "metadata": {
    "slideshow": {
     "slide_type": "notes"
    }
   },
   "source": [
    "Whenever you do any data analysis, you'll probably be writing code to do it.  As scientists especially, that code should be open-source because that's crucial to reproducibility, and so that your code can be used by others to build on your work — which is good for science, and good for you personally.  But when working on open-source code, the de facto meeting place is github, which is home to most of the major open-source scientific projects (among many others).  In fact, many employers look at your github presence as if it were part of your resume — as evidence of your ability to write code in various languages, and interact well with others.  You can start out just by making an account, and downloading a package that you want to use.  Then you can open issues (bug reports) if you find any problems or have any questsion.  As you get experience, you can fork other projects and create pull requests for fixes or new features you add to other people's code, and even create your own projects.  One easy way to get started with pull requests is just to improve the documentation for some project that you've used.\n",
    "\n",
    "On a more immediate level, I also hope to give you the impression that python is a useful language for fast prototyping, and investigating your data, and nothing enables that interactivity better than Jupyter."
   ]
  },
  {
   "cell_type": "markdown",
   "metadata": {
    "slideshow": {
     "slide_type": "slide"
    }
   },
   "source": [
    "# Jupyter notebooks\n",
    "\n",
    "<br /><br />\n",
    "\n",
    "  - Run a live session of python (or basically any other language)\n",
    "  - Manipulate files, write code, interact with data, make plots, take notes, give presentations, ...\n",
    "\n",
    "\n",
    "  - You don't need to know python\n",
    "  - Put cursor in grey boxes and hit Shift-Enter"
   ]
  },
  {
   "cell_type": "markdown",
   "metadata": {
    "slideshow": {
     "slide_type": "notes"
    }
   },
   "source": [
    "So first, I just want to introduce how we're working here.  Who here has used python before?\n",
    "\n",
    "Python is really dynamic, and powerful, but also a lot simpler than most other languages.  It's not always the fastest at any computation, but since most of your time is spent writing programs (rather than running them), that's not usually a big problem.  And new developments are making python just as fast as even C/C++ in a lot of cases.\n",
    "\n",
    "Now, we throw in the Jupyter notebook.  Who here has used Mathematica before?\n",
    "\n",
    "Well the Jupyter notebook looks and acts like a nice version of Mathematica.  The notebook is connected to a live session of python.  It has these code cells that you run, and you can see the results.  So click on the first cell, and hit Shift+Enter.\n",
    "\n",
    "Mathematica is better at symbolic math (for now).  But otherwise, python is more useful and general.  And the Jupyter notebook makes it better at interactive stuff.  So here's my unsolicited advice: if you're deciding what programming language to learn, go with python.  There are nerdier options out there, but not many more broadly useful options.  And if you're using python interactively, you'll want to us Jupyter (which is just a different interface) or -- better yet -- the Jupyter notebook."
   ]
  },
  {
   "cell_type": "markdown",
   "metadata": {
    "slideshow": {
     "slide_type": "slide"
    }
   },
   "source": [
    "# Basic idea of matched filtering\n",
    "\n",
    "  * We have some raw data $d(t)$\n",
    "  * Does it agree with some possible signal $s(t)$?\n",
    "  \n",
    "\n",
    "Take the product: $d(t)\\, s(t)$\n",
    "\n",
    "  * When $d$ and $s$ agree, their product is large and positive\n",
    "  * When $d$ and $s$ disagree, their product is small or negative"
   ]
  },
  {
   "cell_type": "markdown",
   "metadata": {
    "slideshow": {
     "slide_type": "fragment"
    }
   },
   "source": [
    "Integrate over all times:\n",
    "  \\begin{equation*}\n",
    "    \\text{\"Overlap\"} = \\int_{-\\infty}^{\\infty} d(t) \\, s(t)\\, dt\n",
    "  \\end{equation*}"
   ]
  },
  {
   "cell_type": "markdown",
   "metadata": {
    "slideshow": {
     "slide_type": "notes"
    }
   },
   "source": [
    "This is like constructive and destructive interference.  (Normally, we think about the *sum* of waves producing interference; a *product* like this comes up if you look at changes in the \"energy\" of the combined wave.)  If $d$ and $s$ are in phase, they add up to a big result; if they are out of phase, they cancel out."
   ]
  },
  {
   "cell_type": "markdown",
   "metadata": {
    "slideshow": {
     "slide_type": "slide"
    }
   },
   "source": [
    "\\begin{equation*}\n",
    "    \\text{Overlap} = \\sum_{t_i} d(t_i) \\, s(t_i)\\, \\Delta t\n",
    "\\end{equation*}"
   ]
  },
  {
   "cell_type": "markdown",
   "metadata": {
    "slideshow": {
     "slide_type": "slide"
    }
   },
   "source": [
    "# Improvements\n",
    "\n",
    "<br /><br />\n",
    "\n",
    "  * Not sure when $s$ should arrive.  Can we compute overlap with time offsets?\n",
    "  * This is slow.  Can we do it faster?\n",
    "  * There's a lot of noise.  Can we reduce its effect?"
   ]
  },
  {
   "cell_type": "markdown",
   "metadata": {
    "slideshow": {
     "slide_type": "fragment"
    }
   },
   "source": [
    "Yes, if we use Fourier transforms!"
   ]
  },
  {
   "cell_type": "markdown",
   "metadata": {
    "slideshow": {
     "slide_type": "slide"
    }
   },
   "source": [
    "# (Discrete) Fourier transforms\n",
    "\n",
    "<br /><br />\n",
    "\n",
    "$$\n",
    "s(t) = \\sum_{i} \\left[ \\tilde{s}_i\\, \\sin (2\\,\\pi\\,f_i\\,t + \\phi_i) \\right]\n",
    "$$\n",
    "\n",
    "Discrete frequencies: $f_i$\n",
    "\n",
    "FT amplitude: $\\tilde{s}_i$\n",
    "\n",
    "FT phase: $\\phi_i$"
   ]
  },
  {
   "cell_type": "markdown",
   "metadata": {
    "slideshow": {
     "slide_type": "slide"
    }
   },
   "source": [
    "# Equivalence by Parseval's theorem\n",
    "\n",
    "<br /><br /><br />\n",
    "\n",
    "  \\begin{equation*}\n",
    "    \\sum_{t_i} d(t_i) \\, s(t_i)\\, \\Delta t\n",
    "    \\quad = \\quad\n",
    "    \\sum_{i} \\tilde{d}_i \\, \\tilde{s}_i\\, \\cos \\left( \\phi_{d,i} - \\phi_{s,i} \\right) \\Delta f\n",
    "  \\end{equation*}"
   ]
  },
  {
   "cell_type": "markdown",
   "metadata": {
    "slideshow": {
     "slide_type": "slide"
    }
   },
   "source": [
    "# Time offsets\n",
    "\n",
    "<br /><br />\n",
    "\n",
    "Shift $s(t)$ by some $\\delta t$:\n",
    "\n",
    "<br />\n",
    "\n",
    "\\begin{align*}\n",
    "    \\text{Overlap}(\\delta t)\n",
    "    \\quad &= \\quad\n",
    "    \\sum_{t_i} d(t_i) \\, s(t_i - \\delta t)\\, \\Delta t\n",
    "    \\\\\n",
    "    \\quad &= \\quad\n",
    "    \\sum_{i} \\tilde{d}_i \\, \\tilde{s}_i\\, \\cos \\left( \\phi_{d,i} - \\phi_{s,i} - 2\\,\\pi\\,f_i\\,\\delta t \\right) \\Delta f\n",
    "  \\end{align*}"
   ]
  },
  {
   "cell_type": "markdown",
   "metadata": {
    "slideshow": {
     "slide_type": "notes"
    }
   },
   "source": [
    "So far, there's no reason to prefer doing this calculation as a function of time or of frequency.  Naively, if we look at these formulas, the sum over frequencies looks like it would be slower because we have to do two FTs in the first place just to get the data.\n",
    "\n",
    "The real problem is that we don't just care about the overlap for a particular time offset, we care about the *best* overlap for any time offset."
   ]
  },
  {
   "cell_type": "markdown",
   "metadata": {
    "slideshow": {
     "slide_type": "slide"
    }
   },
   "source": [
    "# Best time offset\n",
    "\n",
    "<br />\n",
    "\n",
    "  \\begin{equation*}\n",
    "    \\text{\"Match\"} = \n",
    "    \\max_{\\delta t} \\left[ \\text{Overlap}(\\delta t) \\right]\n",
    "  \\end{equation*}"
   ]
  },
  {
   "cell_type": "markdown",
   "metadata": {
    "slideshow": {
     "slide_type": "fragment"
    }
   },
   "source": [
    "<br />\n",
    "\n",
    "  \\begin{align*}\n",
    "    \\text{Match}\n",
    "    \\quad &= \\quad\n",
    "    \\max_{\\delta t} \\left[ \\sum_{t_i} d(t_i) \\, s(t_i - \\delta t)\\, \\Delta t \\right]\n",
    "    \\\\\n",
    "    \\quad &= \\quad\n",
    "    \\max_{\\delta t} \\left[ \\sum_{i} \\tilde{d}_i \\, \\tilde{s}_i\\, \\cos \\left( \\phi_{d,i} - \\phi_{s,i} - 2\\,\\pi\\,f_i\\,\\delta t \\right) \\Delta f \\right]\n",
    "  \\end{align*}"
   ]
  },
  {
   "cell_type": "markdown",
   "metadata": {
    "slideshow": {
     "slide_type": "notes"
    }
   },
   "source": [
    "So it looks like we'll have to do one of these sums for all the different values of $\\delta t$, and pick which one is the best.  But this is where we find the big difference.  If you look at the sum over frequencies, it turns out that that's actually an \"inverse\" Fourier transform, which only has to be done once to get *every* value for every $\\delta t$, and can be done *extremely* efficiently."
   ]
  },
  {
   "cell_type": "markdown",
   "metadata": {
    "slideshow": {
     "slide_type": "slide"
    }
   },
   "source": [
    "# Best time offset\n",
    "\n",
    "<br /> <br /> <br /> <br />\n",
    "\n",
    "  \\begin{equation*}\n",
    "    \\text{Match}\n",
    "    =\\max \\left[ \\mathrm{IFT}\\left\\{ \\tilde{d}\\, \\tilde{s} \\right\\} \\right]\n",
    "  \\end{equation*}\n",
    "  \n",
    "<br /> <br />"
   ]
  },
  {
   "cell_type": "markdown",
   "metadata": {
    "slideshow": {
     "slide_type": "notes"
    }
   },
   "source": [
    "This is a bit simplistic, but the basic idea is that we can just do 3 Fourier transforms (one an inverse), and get the answer."
   ]
  },
  {
   "cell_type": "markdown",
   "metadata": {
    "slideshow": {
     "slide_type": "slide"
    }
   },
   "source": [
    "# Making it *fast*\n",
    "\n",
    "<br /><br />\n",
    "\n",
    "The Fast Fourier Transform (FFT) makes this *tens of thousands* of times faster"
   ]
  },
  {
   "cell_type": "markdown",
   "metadata": {
    "slideshow": {
     "slide_type": "notes"
    }
   },
   "source": [
    "The FFT is one of the more remarkable algorithms in all of computing, because it can make things *so* much faster.\n",
    "\n",
    "So now we've accomplished our first two improvements: including time offsets and making it faster.  Now, we have to deal with all that noise."
   ]
  },
  {
   "cell_type": "markdown",
   "metadata": {
    "slideshow": {
     "slide_type": "slide"
    }
   },
   "source": [
    "# Handling noise\n",
    "\n",
    "<img src=\"files/70sEqualizer.jpg\" width=\"1200px\">"
   ]
  },
  {
   "cell_type": "markdown",
   "metadata": {
    "slideshow": {
     "slide_type": "slide"
    }
   },
   "source": [
    "# Handling noise\n",
    "\n",
    "<br /> <br /> <br /> <br />\n",
    "\n",
    "  \\begin{equation*}\n",
    "    \\text{Match}\n",
    "    =\\max \\left[ \\mathrm{IFT}\\left\\{ \\tilde{d}\\, \\tilde{s} \\right\\} \\right]\n",
    "    \\longrightarrow\\max \\left[ \\mathrm{IFT}\\left\\{ \\frac{\\tilde{d}\\, \\tilde{s}} {\\tilde{n}^2} \\right\\} \\right]\n",
    "  \\end{equation*}\n",
    "  \n",
    "<br /> <br />"
   ]
  },
  {
   "cell_type": "markdown",
   "metadata": {
    "slideshow": {
     "slide_type": "notes"
    }
   },
   "source": [
    "Fourier series are vectors; Fourier space is a vector space.\n",
    "\n",
    "We've provided the vector space with a \"dot product\" (which makes it into a Hilbert space).\n",
    "\n",
    "The dot product accounts for different amounts of noise in the different vector components.\n",
    "\n",
    "Matched filtering is taking a signal vector and measuring its projection along a template vector."
   ]
  },
  {
   "cell_type": "markdown",
   "metadata": {
    "slideshow": {
     "slide_type": "slide"
    }
   },
   "source": [
    "# Conclusions\n",
    "\n",
    "Matched filtering:\n",
    "\n",
    "  - Current GW detectors are like giant microphones\n",
    "  - There's lots of noise\n",
    "  - So we filter the data and test for signals"
   ]
  },
  {
   "cell_type": "markdown",
   "metadata": {
    "slideshow": {
     "slide_type": "slide"
    }
   },
   "source": [
    "# Conclusions\n",
    "\n",
    "Data analysis:\n",
    "\n",
    "  - FFTs are great for time series (any periodic signal)\n",
    "  - Python and Jupyter notebooks are really useful\n",
    "  - Look at your data in as many ways as possible\n",
    "  - Don't blindly trust hand-me-down algorithms\n",
    "  - Don't blindly trust your results\n",
    "    - Think about whether they make sense\n",
    "    - Understand all the features\n",
    "    - Things you don't understand may lead to discovery"
   ]
  },
  {
   "cell_type": "markdown",
   "metadata": {
    "slideshow": {
     "slide_type": "skip"
    }
   },
   "source": [
    "# Notebook outline\n",
    "\n",
    "2. Listening to gravitational waves\n",
    "  - What does a GW sound (and look) like?\n",
    "3. Listening to detector data\n",
    "  - Our data has a *lot* of noise\n",
    "4. Digging signal out of noise manually\n",
    "  - Manipulate the signal to hear the parts that *you think* matter\n",
    "5. Digging signal out of noise automatically\n",
    "  - Manipulate the signal to eliminate the parts that are always there\n",
    "6. Digging signal out of noise with a model waveform\n",
    "  - Manipulate the signal to find what you want to find...\n",
    "  - Time-domain stuff here!\n",
    "7. Speeding up the process for LIGO searches\n",
    "  - How LIGO really does it\n",
    "8. More detections!\n",
    "  - Try your hand at data analysis with newer detections"
   ]
  },
  {
   "cell_type": "markdown",
   "metadata": {
    "slideshow": {
     "slide_type": "skip"
    }
   },
   "source": [
    "# github.com/moble/MatchedFiltering"
   ]
  },
  {
   "cell_type": "markdown",
   "metadata": {
    "slideshow": {
     "slide_type": "slide"
    }
   },
   "source": [
    "Now, run\n",
    "```bash\n",
    "gw_matched_filtering_demo\n",
    "```\n",
    "\n",
    "<br />\n",
    "\n",
    "***NOTE:*** Be careful when listening to any sounds.  Many of them get very loud very suddenly.  Be prepared to move your headphones away from your head or reduce the volume very quickly."
   ]
  },
  {
   "cell_type": "markdown",
   "metadata": {
    "slideshow": {
     "slide_type": "subslide"
    }
   },
   "source": [
    "python $Anaconda_Home\\envs\\gw_matched_filtering_demo\\Scripts\\gw_matched_filtering_demo"
   ]
  },
  {
   "cell_type": "code",
   "execution_count": null,
   "metadata": {
    "slideshow": {
     "slide_type": "skip"
    }
   },
   "outputs": [],
   "source": []
  }
 ],
 "metadata": {
  "celltoolbar": "Slideshow",
  "kernelspec": {
   "display_name": "Python 3",
   "language": "python",
   "name": "python3"
  },
  "language_info": {
   "codemirror_mode": {
    "name": "ipython",
    "version": 3
   },
   "file_extension": ".py",
   "mimetype": "text/x-python",
   "name": "python",
   "nbconvert_exporter": "python",
   "pygments_lexer": "ipython3",
   "version": "3.8.3"
  },
  "rise": {
   "autolaunch": true
  },
  "toc": {
   "colors": {
    "hover_highlight": "#DAA520",
    "navigate_num": "#000000",
    "navigate_text": "#333333",
    "running_highlight": "#FF0000",
    "selected_highlight": "#FFD700",
    "sidebar_border": "#EEEEEE",
    "wrapper_background": "#FFFFFF"
   },
   "moveMenuLeft": true,
   "nav_menu": {
    "height": "156px",
    "width": "252px"
   },
   "navigate_menu": true,
   "number_sections": true,
   "sideBar": true,
   "threshold": 4,
   "toc_cell": false,
   "toc_section_display": "block",
   "toc_window_display": false,
   "widenNotebook": false
  }
 },
 "nbformat": 4,
 "nbformat_minor": 1
}
